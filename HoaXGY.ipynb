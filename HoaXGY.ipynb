{
  "nbformat": 4,
  "nbformat_minor": 0,
  "metadata": {
    "colab": {
      "provenance": [],
      "gpuType": "T4",
      "include_colab_link": true
    },
    "kernelspec": {
      "name": "python3",
      "display_name": "Python 3"
    },
    "language_info": {
      "name": "python"
    },
    "accelerator": "GPU"
  },
  "cells": [
    {
      "cell_type": "markdown",
      "metadata": {
        "id": "view-in-github",
        "colab_type": "text"
      },
      "source": [
        "<a href=\"https://colab.research.google.com/github/lukmanharahap/fake-news-detection/blob/main/HoaXGY.ipynb\" target=\"_parent\"><img src=\"https://colab.research.google.com/assets/colab-badge.svg\" alt=\"Open In Colab\"/></a>"
      ]
    },
    {
      "cell_type": "code",
      "execution_count": null,
      "metadata": {
        "id": "a0PbI7sParUz"
      },
      "outputs": [],
      "source": [
        "import pandas as pd\n",
        "import numpy as np\n",
        "import re\n",
        "import pathlib\n",
        "import matplotlib.pyplot as plt\n",
        "import tensorflow as tf\n",
        "from tensorflow.keras.preprocessing.text import Tokenizer\n",
        "from tensorflow.keras.preprocessing.sequence import pad_sequences"
      ]
    },
    {
      "cell_type": "code",
      "source": [
        "real1 = pd.read_excel(\"/content/dataset_cnn_10k_cleaned.xlsx\")\n",
        "real2 = pd.read_excel(\"/content/dataset_kompas_4k_cleaned.xlsx\")\n",
        "real3 = pd.read_excel(\"/content/dataset_tempo_6k_cleaned.xlsx\")\n",
        "fake = pd.read_excel(\"/content/dataset_turnbackhoax_10_cleaned.xlsx\")"
      ],
      "metadata": {
        "id": "7TXL1gAnnhKQ"
      },
      "execution_count": null,
      "outputs": []
    },
    {
      "cell_type": "code",
      "source": [
        "real1.drop(['Title', 'Timestamp', 'FullText', 'Tags', 'Author', 'Url'], axis=1, inplace=True)\n",
        "real2.drop(['Title', 'Timestamp', 'FullText', 'Tags', 'Author', 'Url'], axis=1, inplace=True)\n",
        "real3.drop(['Title', 'Timestamp', 'FullText', 'Tags', 'Author', 'Url'], axis=1, inplace=True)\n",
        "fake.drop(['Title', 'Timestamp', 'FullText', 'Tags', 'Author', 'Url', 'politik', 'Narasi'], axis=1, inplace=True)"
      ],
      "metadata": {
        "id": "WbCEFk50yokV"
      },
      "execution_count": null,
      "outputs": []
    },
    {
      "cell_type": "code",
      "source": [
        "dataset = pd.concat([real1, real2, real3, fake]).sample(frac = 1)"
      ],
      "metadata": {
        "id": "CtSsPLg5vEuV"
      },
      "execution_count": null,
      "outputs": []
    },
    {
      "cell_type": "code",
      "source": [
        "dataset.dropna(subset=['text_new'], inplace=True)"
      ],
      "metadata": {
        "id": "e1FWPWj_veJn"
      },
      "execution_count": null,
      "outputs": []
    },
    {
      "cell_type": "code",
      "source": [
        "dataset['text_new'] = dataset['text_new'].apply(lambda x: re.sub('\\W+', ' ', x))"
      ],
      "metadata": {
        "colab": {
          "base_uri": "https://localhost:8080/"
        },
        "id": "RxBxcxmepUTC",
        "outputId": "18430651-702e-49ca-f487-4f75b76319e3"
      },
      "execution_count": null,
      "outputs": [
        {
          "output_type": "execute_result",
          "data": {
            "text/plain": [
              "2651    JUTAAN ORANG DI TIAP2 NEGARA DUNIA BERDEMO MEN...\n",
              "1763    Survei Voxpol Anies Teratas Disusul Ganjar dan...\n",
              "4067    Fadli Zon Anggap Ada Motif Politik di Balik Pe...\n",
              "1362    Istilah Cebong dan Kadrun Perlu Diakhiri untuk...\n",
              "5218    Bayu Airlangga Gabung ke Golkar Usai Mundur da...\n",
              "                              ...                        \n",
              "1968    WARNING OF VIRUS IN 1981DAN SEKARANG TERJADI M...\n",
              "7891    Sandiaga Uno Kawal Vaksinasi Relawan Capres 20...\n",
              "4167    Ketika Media Sosial Menjadi Agama dan Kitab Su...\n",
              "5798    Mengenal Apa Itu Figur Sentral di Tiap Partai ...\n",
              "4359    WOW Perayaan ulang tahun Nike Nike menawarkan ...\n",
              "Name: text_new, Length: 27447, dtype: object"
            ]
          },
          "metadata": {},
          "execution_count": 6
        }
      ]
    },
    {
      "cell_type": "code",
      "source": [
        "sentences = dataset['text_new']\n",
        "labels = dataset['hoax']"
      ],
      "metadata": {
        "id": "7l1ZwlQ7Qnjr"
      },
      "execution_count": null,
      "outputs": []
    },
    {
      "cell_type": "code",
      "source": [
        "trunc_type = 'post'\n",
        "padding_type = 'post'\n",
        "oov_tok = \"<OOV>\"\n",
        "\n",
        "training_size = 19000\n",
        "vocab_size = 5000\n",
        "max_length = 300\n",
        "embedding_dim = 100\n",
        "\n",
        "training_sentences = sentences[:training_size]\n",
        "testing_sentences = sentences[training_size:]\n",
        "\n",
        "training_labels = labels[:training_size]\n",
        "testing_labels = labels[training_size:]\n",
        "\n",
        "tokenizer = Tokenizer(num_words=vocab_size, oov_token=oov_tok, filters='!\"#$%&()*+,-./:;<=>?@[\\\\]^_`{\"}~\\t\\n')\n",
        "tokenizer.fit_on_texts(training_sentences)\n",
        "\n",
        "training_sequences = tokenizer.texts_to_sequences(training_sentences)\n",
        "training_padded = pad_sequences(training_sequences, maxlen=max_length, padding=padding_type, truncating=trunc_type)\n",
        "\n",
        "testing_sequences = tokenizer.texts_to_sequences(testing_sentences)\n",
        "testing_padded = pad_sequences(testing_sequences, maxlen=max_length, padding=padding_type, truncating=trunc_type)\n",
        "\n",
        "training_labels = np.array(training_labels)\n",
        "testing_labels = np.array(testing_labels)"
      ],
      "metadata": {
        "id": "Up-FqjoMOLIN"
      },
      "execution_count": null,
      "outputs": []
    },
    {
      "cell_type": "code",
      "source": [
        "model = tf.keras.Sequential([\n",
        "    tf.keras.layers.Embedding(vocab_size, embedding_dim, input_length=max_length),\n",
        "    tf.keras.layers.GlobalAveragePooling1D(),\n",
        "    # tf.keras.layers.LSTM(128),\n",
        "    # tf.keras.layers.Dropout(0.5),\n",
        "    tf.keras.layers.Dense(32, activation='relu'),\n",
        "    # tf.keras.layers.Dropout(0.3),\n",
        "    tf.keras.layers.Dense(1, activation='sigmoid')\n",
        "])\n",
        "\n",
        "early_stopping = tf.keras.callbacks.EarlyStopping(monitor='val_loss', patience=2)\n",
        "model.compile(loss='binary_crossentropy', optimizer='adam', metrics=['accuracy'])\n",
        "num_epochs = 10\n",
        "\n",
        "history = model.fit(training_padded, training_labels, epochs=num_epochs, validation_data=(testing_padded, testing_labels), verbose=2, callbacks=[early_stopping])"
      ],
      "metadata": {
        "colab": {
          "base_uri": "https://localhost:8080/"
        },
        "id": "8zqCM0iGPrad",
        "outputId": "59894478-b4cc-40c9-97d4-9f2b0913b0db"
      },
      "execution_count": null,
      "outputs": [
        {
          "output_type": "stream",
          "name": "stdout",
          "text": [
            "Epoch 1/10\n",
            "594/594 - 10s - loss: 0.2330 - accuracy: 0.9157 - val_loss: 0.0988 - val_accuracy: 0.9763 - 10s/epoch - 17ms/step\n",
            "Epoch 2/10\n",
            "594/594 - 8s - loss: 0.0680 - accuracy: 0.9821 - val_loss: 0.0831 - val_accuracy: 0.9677 - 8s/epoch - 13ms/step\n",
            "Epoch 3/10\n",
            "594/594 - 9s - loss: 0.0421 - accuracy: 0.9878 - val_loss: 0.0640 - val_accuracy: 0.9839 - 9s/epoch - 16ms/step\n",
            "Epoch 4/10\n",
            "594/594 - 8s - loss: 0.0275 - accuracy: 0.9925 - val_loss: 0.0648 - val_accuracy: 0.9838 - 8s/epoch - 14ms/step\n",
            "Epoch 5/10\n",
            "594/594 - 9s - loss: 0.0202 - accuracy: 0.9942 - val_loss: 0.0653 - val_accuracy: 0.9834 - 9s/epoch - 15ms/step\n"
          ]
        }
      ]
    },
    {
      "cell_type": "code",
      "source": [
        "model.summary()"
      ],
      "metadata": {
        "colab": {
          "base_uri": "https://localhost:8080/"
        },
        "id": "a4jbrE_RZSee",
        "outputId": "0c0cf01a-b318-496e-a07c-d823f3e1d56a"
      },
      "execution_count": null,
      "outputs": [
        {
          "output_type": "stream",
          "name": "stdout",
          "text": [
            "Model: \"sequential\"\n",
            "_________________________________________________________________\n",
            " Layer (type)                Output Shape              Param #   \n",
            "=================================================================\n",
            " embedding (Embedding)       (None, 300, 100)          500000    \n",
            "                                                                 \n",
            " global_average_pooling1d (  (None, 100)               0         \n",
            " GlobalAveragePooling1D)                                         \n",
            "                                                                 \n",
            " dense (Dense)               (None, 32)                3232      \n",
            "                                                                 \n",
            " dense_1 (Dense)             (None, 1)                 33        \n",
            "                                                                 \n",
            "=================================================================\n",
            "Total params: 503265 (1.92 MB)\n",
            "Trainable params: 503265 (1.92 MB)\n",
            "Non-trainable params: 0 (0.00 Byte)\n",
            "_________________________________________________________________\n"
          ]
        }
      ]
    },
    {
      "cell_type": "code",
      "source": [
        "def test_model(text):\n",
        "  testing_text = [text]\n",
        "  testing_text = tokenizer.texts_to_sequences(testing_text)\n",
        "  testing_text = pad_sequences(testing_text, maxlen=max_length)\n",
        "  prediction = model.predict(testing_text)\n",
        "  news = \"\"\n",
        "  if prediction >= 0.5:\n",
        "    news = \"Fake News\"\n",
        "  else:\n",
        "    news = \"Real News\"\n",
        "  return news"
      ],
      "metadata": {
        "id": "KSNa07_8ih5S"
      },
      "execution_count": null,
      "outputs": []
    },
    {
      "cell_type": "code",
      "source": [
        "# test_model(\"Rumah Meledak Usai Seorang Pria Semprotkan Insektisida untuk Usir Kecoak\")\n",
        "testing_text = [\"Rumah Meledak Usai Seorang Pria Semprotkan Insektisida untuk Usir Kecoak\"]\n",
        "testing_text = tokenizer.texts_to_sequences(testing_text)\n",
        "testing_text = pad_sequences(testing_text, maxlen=max_length)\n",
        "model.predict(testing_text)"
      ],
      "metadata": {
        "colab": {
          "base_uri": "https://localhost:8080/"
        },
        "id": "OHOBDkwdwUbp",
        "outputId": "973db7e6-e8e5-4298-b90e-aa4c9e8b9041"
      },
      "execution_count": null,
      "outputs": [
        {
          "output_type": "stream",
          "name": "stdout",
          "text": [
            "1/1 [==============================] - 0s 42ms/step\n"
          ]
        },
        {
          "output_type": "execute_result",
          "data": {
            "text/plain": [
              "array([[0.8635682]], dtype=float32)"
            ]
          },
          "metadata": {},
          "execution_count": 17
        }
      ]
    },
    {
      "cell_type": "code",
      "source": [
        "def plot_loss_acc(history):\n",
        "  '''Plots the training and validation loss and accuracy from a history object'''\n",
        "  acc = history.history['accuracy']\n",
        "  val_acc = history.history['val_accuracy']\n",
        "  loss = history.history['loss']\n",
        "  val_loss = history.history['val_loss']\n",
        "\n",
        "  epochs = range(len(acc))\n",
        "\n",
        "  plt.plot(epochs, acc, 'g', label='Training accuracy')\n",
        "  plt.plot(epochs, val_acc, 'b', label='Validation accuracy')\n",
        "  plt.title('Training and validation accuracy')\n",
        "  plt.legend()\n",
        "\n",
        "  plt.figure()\n",
        "\n",
        "  plt.plot(epochs, loss, 'r', label='Training Loss')\n",
        "  plt.plot(epochs, val_loss, 'b', label='Validation Loss')\n",
        "  plt.title('Training and validation loss')\n",
        "  plt.legend()\n",
        "\n",
        "  plt.show()"
      ],
      "metadata": {
        "id": "J02fEVopz6Qv"
      },
      "execution_count": null,
      "outputs": []
    },
    {
      "cell_type": "code",
      "source": [
        "plot_loss_acc(history)"
      ],
      "metadata": {
        "colab": {
          "base_uri": "https://localhost:8080/",
          "height": 887
        },
        "id": "NV8iZ2cRz7uP",
        "outputId": "5c7f54d4-8ce9-4bb4-98bd-61a7b3e0959f"
      },
      "execution_count": null,
      "outputs": [
        {
          "output_type": "display_data",
          "data": {
            "text/plain": [
              "<Figure size 640x480 with 1 Axes>"
            ],
            "image/png": "[encoded data removed]"
          },
          "metadata": {}
        },
        {
          "output_type": "display_data",
          "data": {
            "text/plain": [
              "<Figure size 640x480 with 1 Axes>"
            ],
            "image/png": "[encoded data removed]"
          },
          "metadata": {}
        }
      ]
    },
    {
      "cell_type": "code",
      "source": [
        "converter = tf.lite.TFLiteConverter.from_keras_model(model)\n",
        "tflite_model = converter.convert()"
      ],
      "metadata": {
        "id": "btv-2KZldDIP"
      },
      "execution_count": null,
      "outputs": []
    },
    {
      "cell_type": "code",
      "source": [
        "tflite_models_dir = pathlib.Path(\"/content/\")\n",
        "tflite_models_dir.mkdir(exist_ok=True, parents=True)\n",
        "tflite_model_file = tflite_models_dir/\"hoaxgy.tflite\"\n",
        "tflite_model_file.write_bytes(tflite_model)"
      ],
      "metadata": {
        "colab": {
          "base_uri": "https://localhost:8080/"
        },
        "id": "DEXfNKErw97E",
        "outputId": "51945d23-9523-47f4-e35b-ad529adfae62"
      },
      "execution_count": null,
      "outputs": [
        {
          "output_type": "execute_result",
          "data": {
            "text/plain": [
              "2015544"
            ]
          },
          "metadata": {},
          "execution_count": 13
        }
      ]
    },
    {
      "cell_type": "code",
      "source": [
        "converter.optimizations = [tf.lite.Optimize.DEFAULT]\n",
        "tflite_quant_model = converter.convert()\n",
        "tflite_model_quant_file = tflite_models_dir/\"hoaxgy.tflite\"\n",
        "tflite_model_quant_file.write_bytes(tflite_quant_model)"
      ],
      "metadata": {
        "colab": {
          "base_uri": "https://localhost:8080/"
        },
        "id": "epz8KowoxTPy",
        "outputId": "697ff72b-f43d-4c81-925d-7b9d96f73ee7"
      },
      "execution_count": null,
      "outputs": [
        {
          "output_type": "execute_result",
          "data": {
            "text/plain": [
              "506264"
            ]
          },
          "metadata": {},
          "execution_count": 14
        }
      ]
    },
    {
      "cell_type": "code",
      "source": [
        "interpreter = tf.lite.Interpreter(model_path=str(tflite_model_file))\n",
        "interpreter.allocate_tensors()"
      ],
      "metadata": {
        "id": "JO_6SgrczNLL"
      },
      "execution_count": null,
      "outputs": []
    },
    {
      "cell_type": "code",
      "source": [
        "interpreter_quant = tf.lite.Interpreter(model_path=str(tflite_model_quant_file))\n",
        "interpreter_quant.allocate_tensors()"
      ],
      "metadata": {
        "id": "SzgIbDd5zkx4"
      },
      "execution_count": null,
      "outputs": []
    },
    {
      "cell_type": "code",
      "source": [
        "test_text = np.expand_dims(testing_padded[0], axis=0).astype(np.float32)\n",
        "\n",
        "input_index = interpreter.get_input_details()[0][\"index\"]\n",
        "output_index = interpreter.get_output_details()[0][\"index\"]\n",
        "\n",
        "interpreter.set_tensor(input_index, test_text)\n",
        "interpreter.invoke()\n",
        "predictions = interpreter.get_tensor(output_index)"
      ],
      "metadata": {
        "id": "qHTB_Yzkzn8B"
      },
      "execution_count": null,
      "outputs": []
    },
    {
      "cell_type": "code",
      "source": [
        "# A helper function to evaluate the TF Lite model using \"test\" dataset.\n",
        "def evaluate_model(interpreter):\n",
        "  input_index = interpreter.get_input_details()[0][\"index\"]\n",
        "  output_index = interpreter.get_output_details()[0][\"index\"]\n",
        "\n",
        "  # Run predictions on every image in the \"test\" dataset.\n",
        "  prediction_digits = []\n",
        "  for test_text in testing_padded:\n",
        "    # Pre-processing: add batch dimension and convert to float32 to match with\n",
        "    # the model's input data format.\n",
        "    test_text = np.expand_dims(test_text, axis=0).astype(np.float32)\n",
        "    interpreter.set_tensor(input_index, test_text)\n",
        "\n",
        "    # Run inference.\n",
        "    interpreter.invoke()\n",
        "\n",
        "    # Post-processing: remove batch dimension and find the digit with highest\n",
        "    # probability.\n",
        "    output = interpreter.tensor(output_index)\n",
        "    digit = np.argmax(output()[0])\n",
        "    prediction_digits.append(digit)\n",
        "\n",
        "  # Compare prediction results with ground truth labels to calculate accuracy.\n",
        "  accurate_count = 0\n",
        "  for index in range(len(prediction_digits)):\n",
        "    if prediction_digits[index] == testing_labels[index]:\n",
        "      accurate_count += 1\n",
        "  accuracy = accurate_count * 1.0 / len(prediction_digits)\n",
        "\n",
        "  return accuracy"
      ],
      "metadata": {
        "id": "Ha7Vz5zcliB7"
      },
      "execution_count": null,
      "outputs": []
    },
    {
      "cell_type": "code",
      "source": [
        "print(evaluate_model(interpreter))"
      ],
      "metadata": {
        "colab": {
          "base_uri": "https://localhost:8080/"
        },
        "id": "hCDXNTqAml9N",
        "outputId": "0351be63-9ebe-4f70-d739-f83fcf5ed351"
      },
      "execution_count": null,
      "outputs": [
        {
          "output_type": "stream",
          "name": "stdout",
          "text": [
            "0.7684384988753403\n"
          ]
        }
      ]
    },
    {
      "cell_type": "code",
      "source": [
        "print(evaluate_model(interpreter_quant))"
      ],
      "metadata": {
        "colab": {
          "base_uri": "https://localhost:8080/"
        },
        "id": "ZPfx5j-vmox4",
        "outputId": "db731b6b-6692-4078-970d-6d3bdd244e44"
      },
      "execution_count": null,
      "outputs": [
        {
          "output_type": "stream",
          "name": "stdout",
          "text": [
            "0.7684384988753403\n"
          ]
        }
      ]
    },
    {
      "cell_type": "code",
      "source": [
        "model.save(\"hoaxgy.h5\")"
      ],
      "metadata": {
        "id": "G7FGJyiXvEDm"
      },
      "execution_count": null,
      "outputs": []
    }
  ]
}